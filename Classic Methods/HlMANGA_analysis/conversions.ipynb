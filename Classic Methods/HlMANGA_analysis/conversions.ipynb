{
 "cells": [
  {
   "cell_type": "markdown",
   "id": "64bc335b",
   "metadata": {},
   "source": [
    ".dat to .csv / .txt converter"
   ]
  },
  {
   "cell_type": "code",
   "execution_count": 13,
   "id": "d6c92d23",
   "metadata": {},
   "outputs": [
    {
     "name": "stdout",
     "output_type": "stream",
     "text": [
      "File saved as observation_converted.txt\n"
     ]
    },
    {
     "data": {
      "text/plain": [
       "'observation_converted.txt'"
      ]
     },
     "execution_count": 13,
     "metadata": {},
     "output_type": "execute_result"
    }
   ],
   "source": [
    "import struct\n",
    "import pandas as pd\n",
    "import os\n",
    "\n",
    "def convert_dat_file(input_file_path, output_format='csv'):\n",
    "    # Read the binary file contents\n",
    "    with open(input_file_path, \"rb\") as f:\n",
    "        data = f.read()\n",
    "\n",
    "    # Convert binary data into list of 32-bit floats (little endian)\n",
    "    floats = list(struct.iter_unpack('<f', data))\n",
    "    flat_floats = [val[0] for val in floats]\n",
    "\n",
    "    # Create DataFrame\n",
    "    df = pd.DataFrame(flat_floats, columns=['Value'])\n",
    "\n",
    "    # Determine output file path\n",
    "    base_name = os.path.splitext(input_file_path)[0]\n",
    "    if output_format == 'csv':\n",
    "        output_file = f\"{base_name}_converted.csv\"\n",
    "        df.to_csv(output_file, index=False)\n",
    "    elif output_format == 'txt':\n",
    "        output_file = f\"{base_name}_converted.txt\"\n",
    "        df.to_csv(output_file, index=False, sep='\\t')\n",
    "    else:\n",
    "        raise ValueError(\"Unsupported output format. Choose 'csv' or 'txt'.\")\n",
    "\n",
    "    print(f\"File saved as {output_file}\")\n",
    "    return output_file\n",
    "\n",
    "# Usage\n",
    "convert_dat_file(\"observation.dat\", output_format='txt')\n",
    "# convert_dat_file(\"observation.dat\", output_format='csv')"
   ]
  },
  {
   "cell_type": "markdown",
   "id": "69d4b2f0",
   "metadata": {},
   "source": [
    "Check file contents"
   ]
  },
  {
   "cell_type": "code",
   "execution_count": 11,
   "id": "f7c2e90e",
   "metadata": {},
   "outputs": [
    {
     "name": "stdout",
     "output_type": "stream",
     "text": [
      "b'5\\x90\\x9c=\\x81\\xb5\\x9a=\\x182\\x99=\\xf7g\\x9c=cc\\x9a=\\xbc\\x80\\x9c=\\x1a\\x96\\x9a=\\x0bb\\x9f=\\x04\\x05\\xa6=\\x08N\\xa1=K\\x8e\\x9a=\\xef\\xf4\\x96=}e\\x99=\\xf1\\x15\\x9c=\\xb7\\xdd\\x9d=;\\xdc\\x9e=\\xa4\\x85\\x9a=\\x95%\\x8e=\\x83\\x8b\\x8b=\\xa5\\xfb\\x93=\\x1e\\\\\\x9c=\\xcb\\xc8\\x9d=\\x88\\xf4\\x97=@]\\x97=\\xf1\\x01\\x98=1\\x8c\\x9a=\\x98\\xa7\\x9f=\\xc3\\xcf\\x9a=\\xf6\\x01\\x9a=\\x8fY\\x9b=Gc\\x8e=N$\\x88=\\x83\\xc9\\x93=\\x85\\xed\\xa1=\\x1b\\xb8\\xa8=\\xcc\\xde\\x9e=\\x88\\x10\\x98=\\xb3$\\x97=\\xa3\\x03\\x95=}d\\x97=\\xb0\\xdd\\x99=\\x85\\x8b\\x9e=\\xeaL\\x99=g \\x90=9\\x9a\\x94=\\x00}\\x91=:\\xb1\\x8e=<M\\x91=\"\\xda\\x95=\\xb2a\\x90=\\x85\\x14\\x92=c\\xfe\\x91=\\xf1\\xa9\\x8f=)\\xdf\\x92=\\x00b\\x98=\\x881\\x9a=\\xf79\\x9d=?\\xd2\\x9d=\\xc98\\x9c=@R\\x9a=\\xc6\\xaa\\x92=R\\xd5\\x90=&\\x07\\x8d=\\x8a\\x9a\\x8b='\n"
     ]
    }
   ],
   "source": [
    "with open(\"observation.dat\", \"rb\") as f:\n",
    "    raw = f.read(256)\n",
    "\n",
    "print(raw[:256])\n"
   ]
  }
 ],
 "metadata": {
  "kernelspec": {
   "display_name": ".venv",
   "language": "python",
   "name": "python3"
  },
  "language_info": {
   "codemirror_mode": {
    "name": "ipython",
    "version": 3
   },
   "file_extension": ".py",
   "mimetype": "text/x-python",
   "name": "python",
   "nbconvert_exporter": "python",
   "pygments_lexer": "ipython3",
   "version": "3.13.2"
  }
 },
 "nbformat": 4,
 "nbformat_minor": 5
}
