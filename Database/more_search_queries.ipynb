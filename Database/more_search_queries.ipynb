{
 "cells": [
  {
   "cell_type": "code",
   "execution_count": null,
   "id": "4c6e8d9e-f0c4-4e17-899a-bee62ad5b3aa",
   "metadata": {},
   "outputs": [],
   "source": [
    "import mysql.connector\n",
    "import pandas as pd"
   ]
  },
  {
   "cell_type": "code",
   "execution_count": null,
   "id": "a9d291df-95d9-49ee-b202-6b18dcc2f415",
   "metadata": {},
   "outputs": [],
   "source": [
    "# the functions to open connection and close connection with the database"
   ]
  },
  {
   "cell_type": "code",
   "execution_count": null,
   "id": "84d507dc-6519-407b-9973-05aa04c80af6",
   "metadata": {},
   "outputs": [],
   "source": [
    "def open_con():\n",
    "    db = mysql.connector.connect(\n",
    "        host=\"195.201.104.116\",\n",
    "        user=\"eta14802_astrobeam\",\n",
    "        password=\"PGdAR{F[1C#~\",\n",
    "        database=\"eta14802_astrobeam\"\n",
    "    )\n",
    "    mycursor = db.cursor()\n",
    "    return db, mycursor\n",
    "\n",
    "def close_con(db, mycursor):\n",
    "    mycursor.close()\n",
    "    db.close()\n"
   ]
  },
  {
   "cell_type": "code",
   "execution_count": null,
   "id": "d342b9ef-0315-41f8-9dcd-bdf1502b26b8",
   "metadata": {},
   "outputs": [],
   "source": [
    "# search_by_rest_frequency: Returns rows where rest_frequency is between min_freq (input) and max_freq (input)."
   ]
  },
  {
   "cell_type": "code",
   "execution_count": null,
   "id": "5be6d072-7807-4ffe-a2af-8fe8a1b0dc56",
   "metadata": {},
   "outputs": [],
   "source": [
    "def search_by_rest_frequency(table, min_freq=None, max_freq=None):\n",
    "    db, mycursor = open_con()\n",
    "\n",
    "    query = f\"SELECT * FROM {table} WHERE 1=1\"\n",
    "    params = []\n",
    "\n",
    "    if min_freq is not None:\n",
    "        query += \" AND rest_frequency >= %s\"\n",
    "        params.append(min_freq)\n",
    "    if max_freq is not None:\n",
    "        query += \" AND rest_frequency <= %s\"\n",
    "        params.append(max_freq)\n",
    "\n",
    "    mycursor.execute(query, params)\n",
    "    results = mycursor.fetchall()\n",
    "    column_names = [desc[0] for desc in mycursor.description]\n",
    "\n",
    "    final = pd.DataFrame(results, columns=column_names)\n",
    "    close_con(db, mycursor)\n",
    "\n",
    "    return final\n",
    "\n"
   ]
  },
  {
   "cell_type": "code",
   "execution_count": null,
   "id": "c6eced14-ba8d-48fd-a4a5-6c02bb4791e1",
   "metadata": {},
   "outputs": [],
   "source": [
    "search_by_rest_frequency('gbt_observations', None, 1420.4059)"
   ]
  },
  {
   "cell_type": "code",
   "execution_count": null,
   "id": "a22c221e-e746-40ec-8f82-dab30f7e7395",
   "metadata": {},
   "outputs": [],
   "source": [
    "# search_by_observation_date: Returns rows where observation_date is between start_date (input) and end_date (input)."
   ]
  },
  {
   "cell_type": "code",
   "execution_count": null,
   "id": "7555340e-8f61-46fa-9bf6-28aa03d9c3d0",
   "metadata": {},
   "outputs": [],
   "source": [
    "def search_by_observation_date(table, start_date=None, end_date=None):\n",
    "    db, mycursor = open_con()\n",
    "\n",
    "    query = f\"SELECT * FROM {table} WHERE 1=1\"\n",
    "    params = []\n",
    "\n",
    "    if start_date is not None:\n",
    "        query += \" AND observation_date >= %s\"\n",
    "        params.append(start_date)\n",
    "    if end_date is not None:\n",
    "        query += \" AND observation_date <= %s\"\n",
    "        params.append(end_date)\n",
    "\n",
    "    mycursor.execute(query, params)\n",
    "    results = mycursor.fetchall()\n",
    "    column_names = [desc[0] for desc in mycursor.description]\n",
    "\n",
    "    final = pd.DataFrame(results, columns=column_names)\n",
    "    close_con(db, mycursor)\n",
    "\n",
    "    return final\n"
   ]
  },
  {
   "cell_type": "code",
   "execution_count": null,
   "id": "250ff2b7-8133-48da-95d9-4f3019344e63",
   "metadata": {},
   "outputs": [],
   "source": [
    "search_by_observation_date('gbt_observations', None, '2018-01-16')\n"
   ]
  },
  {
   "cell_type": "code",
   "execution_count": null,
   "id": "2e62d2a0-14bf-4402-8424-025c05afb107",
   "metadata": {},
   "outputs": [],
   "source": [
    "# search_by_integration_time: Returns rows where integration_time is between min_time (input) and max_time (input)."
   ]
  },
  {
   "cell_type": "code",
   "execution_count": null,
   "id": "dfe14798-dd94-4ed5-9f40-77641232f618",
   "metadata": {},
   "outputs": [],
   "source": [
    "def search_by_integration_time(table, min_time=None, max_time=None):\n",
    "    db, mycursor = open_con()\n",
    "\n",
    "    query = f\"SELECT * FROM {table} WHERE 1=1\"\n",
    "    params = []\n",
    "\n",
    "    if min_time is not None:\n",
    "        query += \" AND integration_time >= %s\"\n",
    "        params.append(min_time)\n",
    "    if max_time is not None:\n",
    "        query += \" AND integration_time <= %s\"\n",
    "        params.append(max_time)\n",
    "\n",
    "    mycursor.execute(query, params)\n",
    "    results = mycursor.fetchall()\n",
    "    column_names = [desc[0] for desc in mycursor.description]\n",
    "\n",
    "    final = pd.DataFrame(results, columns=column_names)\n",
    "    close_con(db, mycursor)\n",
    "\n",
    "    return final\n"
   ]
  },
  {
   "cell_type": "code",
   "execution_count": null,
   "id": "2ed26c6c-74e4-4905-83a2-7cc3a050b946",
   "metadata": {},
   "outputs": [],
   "source": [
    "search_by_integration_time('gbt_observations', 890, None)"
   ]
  },
  {
   "cell_type": "code",
   "execution_count": null,
   "id": "2ffb5ada-32a9-49c8-89d2-c752b156915f",
   "metadata": {},
   "outputs": [],
   "source": [
    "# search_by_ra_dec: Returns rows where ra_dec column exactly matches the combination of ra (input) and dec (input)."
   ]
  },
  {
   "cell_type": "code",
   "execution_count": null,
   "id": "e84800bc-c2aa-4eae-872f-b16e6d729d32",
   "metadata": {},
   "outputs": [],
   "source": [
    "def search_by_ra_dec(table, ra, dec):\n",
    "    db, mycursor = open_con()\n",
    "\n",
    "    full_coord = f\"\"\"{ra}{dec}\"\"\"\n",
    "\n",
    "    query = f\"\"\"SELECT * FROM {table} WHERE ra_dec = %s\"\"\"\n",
    "\n",
    "    mycursor.execute(query, (full_coord, ))\n",
    "    results = mycursor.fetchall()\n",
    "    column_names = [desc[0] for desc in mycursor.description]\n",
    "\n",
    "    final = pd.DataFrame(results, columns=column_names)\n",
    "    \n",
    "    close_con(db, mycursor)\n",
    "\n",
    "    return final\n"
   ]
  },
  {
   "cell_type": "code",
   "execution_count": null,
   "id": "a5567eb6-93ee-43ba-8be4-1ca5bd5875be",
   "metadata": {},
   "outputs": [],
   "source": [
    "search_by_ra_dec('gbt_observations', '08 54 44.6 ',' +57 28 49')"
   ]
  },
  {
   "cell_type": "code",
   "execution_count": null,
   "id": "2797772b-e1ef-4039-a500-2d803322ae86",
   "metadata": {},
   "outputs": [],
   "source": [
    "# search_by_telescope_name: Returns rows where telescope_name contains the keyword (input) as a substring."
   ]
  },
  {
   "cell_type": "code",
   "execution_count": null,
   "id": "bf767c00-2713-4baa-ae4d-41d266a1d45f",
   "metadata": {},
   "outputs": [],
   "source": [
    "def search_by_telescope_name(table, telescope):\n",
    "\n",
    "    db, mycursor = open_con()\n",
    "\n",
    "    query = f\"\"\"SELECT * FROM {table} WHERE telescope LIKE %s\"\"\"\n",
    "\n",
    "    mycursor.execute(query, (f\"%{telescope}%\", ))\n",
    "    results = mycursor.fetchall()\n",
    "\n",
    "    column_names = [desc[0] for desc in mycursor.description]\n",
    "\n",
    "    final = pd.DataFrame(results, columns=column_names)\n",
    "    close_con(db, mycursor)\n",
    "\n",
    "    return final"
   ]
  },
  {
   "cell_type": "code",
   "execution_count": null,
   "id": "03613a06-908b-4877-9b2a-783fafc569e6",
   "metadata": {},
   "outputs": [],
   "source": [
    "search_by_telescope_name('gbt_observations', 'Robert')"
   ]
  },
  {
   "cell_type": "code",
   "execution_count": null,
   "id": "9cc3d04a-b245-4efb-af1e-8a737d363e2b",
   "metadata": {},
   "outputs": [],
   "source": []
  }
 ],
 "metadata": {
  "kernelspec": {
   "display_name": "Python 3 (ipykernel)",
   "language": "python",
   "name": "python3"
  },
  "language_info": {
   "codemirror_mode": {
    "name": "ipython",
    "version": 3
   },
   "file_extension": ".py",
   "mimetype": "text/x-python",
   "name": "python",
   "nbconvert_exporter": "python",
   "pygments_lexer": "ipython3",
   "version": "3.12.7"
  }
 },
 "nbformat": 4,
 "nbformat_minor": 5
}
