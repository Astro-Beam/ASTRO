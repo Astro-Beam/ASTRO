{
 "cells": [
  {
   "cell_type": "code",
   "execution_count": 4,
   "id": "6eaaac63-a913-400a-8767-42fba3805963",
   "metadata": {},
   "outputs": [
    {
     "name": "stdout",
     "output_type": "stream",
     "text": [
      "✅ Loaded 343 values from: Cold.dat\n",
      "✅ Inserted all data points successfully into the database.\n"
     ]
    }
   ],
   "source": [
    "import psycopg2\n",
    "import numpy as np\n",
    "import os\n",
    "\n",
    "# DB configuration\n",
    "DB_NAME = \"beam\"\n",
    "DB_USER = \"chris\"\n",
    "DB_PASSWORD = \"\"  \n",
    "DB_HOST = \"localhost\"\n",
    "DB_PORT = \"5432\"\n",
    "TABLE_NAME = '\"Observations\".\"ObservationData\"'\n",
    "\n",
    "# data file path and id of ObservationInfo DB\n",
    "dat_file_path = \"/Users/chris/Desktop/BEAM/Observations/Hot.dat\"  # path to .dat file\n",
    "associated_obs_id = 8  # changes based on observation\n",
    "\n",
    "# load .dat data(binary)\n",
    "try:\n",
    "    data = np.fromfile(dat_file_path, dtype=np.float32)  \n",
    "    print(f\"Loaded {len(data)} values from: {os.path.basename(dat_file_path)}\")\n",
    "except Exception as e:\n",
    "    print(\"Error loading .dat file:\", e)\n",
    "    exit()\n",
    "\n",
    "# insert to DB\n",
    "try:\n",
    "    conn = psycopg2.connect(\n",
    "        dbname=DB_NAME,\n",
    "        user=DB_USER,\n",
    "        password=DB_PASSWORD,\n",
    "        host=DB_HOST,\n",
    "        port=DB_PORT\n",
    "    )\n",
    "    cursor = conn.cursor()\n",
    "\n",
    "    sql = f\"\"\"\n",
    "        INSERT INTO {TABLE_NAME} (obs_id, value_index, data_value)\n",
    "        VALUES (%s, %s, %s)\n",
    "    \"\"\"\n",
    "\n",
    "    records = [(associated_obs_id, i, float(val)) for i, val in enumerate(data)]\n",
    "    cursor.executemany(sql, records)\n",
    "\n",
    "    conn.commit()\n",
    "    cursor.close()\n",
    "    conn.close()\n",
    "\n",
    "    print(\"Inserted all data points successfully into the database.\")\n",
    "\n",
    "except Exception as e:\n",
    "    print(\"Error inserting into database:\", e)\n"
   ]
  },
  {
   "cell_type": "code",
   "execution_count": null,
   "id": "faab511b-d1ea-451f-8145-cc381b4f2407",
   "metadata": {},
   "outputs": [],
   "source": []
  }
 ],
 "metadata": {
  "kernelspec": {
   "display_name": "Python 3 (ipykernel)",
   "language": "python",
   "name": "python3"
  },
  "language_info": {
   "codemirror_mode": {
    "name": "ipython",
    "version": 3
   },
   "file_extension": ".py",
   "mimetype": "text/x-python",
   "name": "python",
   "nbconvert_exporter": "python",
   "pygments_lexer": "ipython3",
   "version": "3.12.7"
  }
 },
 "nbformat": 4,
 "nbformat_minor": 5
}
